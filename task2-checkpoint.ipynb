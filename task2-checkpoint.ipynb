{
 "cells": [
  {
   "cell_type": "code",
   "execution_count": 1,
   "id": "c102b834-fafe-4b69-b0c7-c832b9b56f06",
   "metadata": {},
   "outputs": [
    {
     "name": "stdout",
     "output_type": "stream",
     "text": [
      "Accuracy: 0.93\n",
      "Confusion Matrix:\n",
      "[[5575  370]\n",
      " [  94  354]]\n",
      "Classification Report:\n",
      "              precision    recall  f1-score   support\n",
      "\n",
      "           0       0.98      0.94      0.96      5945\n",
      "           1       0.49      0.79      0.60       448\n",
      "\n",
      "    accuracy                           0.93      6393\n",
      "   macro avg       0.74      0.86      0.78      6393\n",
      "weighted avg       0.95      0.93      0.94      6393\n",
      "\n"
     ]
    },
    {
     "data": {
      "image/png": "[encoded data removed]",
      "text/plain": [
       "<Figure size 640x480 with 2 Axes>"
      ]
     },
     "metadata": {},
     "output_type": "display_data"
    }
   ],
   "source": [
    "# SENTIMENT ANALYSIS WITH NLP USING TF-IDF AND LOGISTIC REGRESSION\n",
    "# Import necessary libraries\n",
    "import pandas as pd\n",
    "import numpy as np\n",
    "from sklearn.model_selection import train_test_split\n",
    "from sklearn.feature_extraction.text import TfidfVectorizer\n",
    "from sklearn.linear_model import LogisticRegression\n",
    "from sklearn.metrics import accuracy_score, confusion_matrix, classification_report\n",
    "from imblearn.over_sampling import SMOTE\n",
    "\n",
    "# Step 1: Load the dataset\n",
    "# You can download any public dataset for sentiment analysis\n",
    "# For demonstration, we will use a publicly available dataset\n",
    "\n",
    "# Load the dataset (example: Amazon reviews dataset)\n",
    "# Make sure the dataset has 'review' as text data and 'sentiment' as the target\n",
    "url = \"https://raw.githubusercontent.com/dD2405/Twitter_Sentiment_Analysis/master/train.csv\" # Example dataset\n",
    "df = pd.read_csv(url)\n",
    "\n",
    "# Step 2: Data Preprocessing\n",
    "# We assume 'tweet' contains the customer review and 'label' contains sentiment (1 = positive, 0 = negative)\n",
    "\n",
    "df = df[['tweet', 'label']].dropna()  # Use relevant columns and drop missing values\n",
    "df.columns = ['Comment', 'Sentiment']  # Rename columns to 'Comment' and 'Sentiment'\n",
    "\n",
    "# Convert 'Comment' to lowercase and strip whitespace\n",
    "df['Comment'] = df['Comment'].str.lower().str.strip()\n",
    "\n",
    "# Step 3: Split data into training and testing sets\n",
    "X = df['Comment']  # Features (customer reviews)\n",
    "y = df['Sentiment']  # Target (sentiment)\n",
    "\n",
    "# Split data into training and testing sets (80% training, 20% testing)\n",
    "X_train, X_test, y_train, y_test = train_test_split(X, y, test_size=0.2, random_state=42, stratify=y)\n",
    "\n",
    "# Step 4: Convert text data into TF-IDF vectors\n",
    "# Use TF-IDF vectorizer to transform the text data\n",
    "vectorizer = TfidfVectorizer(max_features=5000)  # Limit to top 5000 words\n",
    "X_train_tfidf = vectorizer.fit_transform(X_train)\n",
    "X_test_tfidf = vectorizer.transform(X_test)\n",
    "\n",
    "# Step 5: Handle class imbalance with SMOTE (if necessary)\n",
    "# Only apply SMOTE if there is class imbalance\n",
    "smote = SMOTE(random_state=42)\n",
    "X_train_resampled, y_train_resampled = smote.fit_resample(X_train_tfidf, y_train)\n",
    "\n",
    "# Step 6: Model training - Logistic Regression\n",
    "model = LogisticRegression(max_iter=1000, class_weight='balanced')  # Handle imbalance using class_weight\n",
    "model.fit(X_train_resampled, y_train_resampled)\n",
    "\n",
    "# Step 7: Evaluate the model on the test set\n",
    "y_pred = model.predict(X_test_tfidf)\n",
    "\n",
    "# Model accuracy\n",
    "accuracy = accuracy_score(y_test, y_pred)\n",
    "print(f\"Accuracy: {accuracy:.2f}\")\n",
    "\n",
    "# Step 8: Performance Metrics\n",
    "# Confusion Matrix\n",
    "cm = confusion_matrix(y_test, y_pred)\n",
    "print(\"Confusion Matrix:\")\n",
    "print(cm)\n",
    "\n",
    "# Classification Report (Precision, Recall, F1-Score)\n",
    "report = classification_report(y_test, y_pred)\n",
    "print(\"Classification Report:\")\n",
    "print(report)\n",
    "\n",
    "# Optional: Visualize confusion matrix (if using matplotlib/seaborn)\n",
    "import seaborn as sns\n",
    "import matplotlib.pyplot as plt\n",
    "sns.heatmap(cm, annot=True, fmt='d', cmap='Blues')\n",
    "plt.xlabel('Predicted')\n",
    "plt.ylabel('Actual')\n",
    "plt.title('Confusion Matrix')\n",
    "plt.show()\n"
   ]
  },
  {
   "cell_type": "code",
   "execution_count": null,
   "id": "42d05357-9616-4d11-bf06-1438a36c2c37",
   "metadata": {},
   "outputs": [],
   "source": []
  }
 ],
 "metadata": {
  "kernelspec": {
   "display_name": "Python [conda env:base] *",
   "language": "python",
   "name": "conda-base-py"
  },
  "language_info": {
   "codemirror_mode": {
    "name": "ipython",
    "version": 3
   },
   "file_extension": ".py",
   "mimetype": "text/x-python",
   "name": "python",
   "nbconvert_exporter": "python",
   "pygments_lexer": "ipython3",
   "version": "3.12.7"
  }
 },
 "nbformat": 4,
 "nbformat_minor": 5
}
